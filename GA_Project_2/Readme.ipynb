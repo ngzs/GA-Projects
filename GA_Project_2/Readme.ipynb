{
 "cells": [
  {
   "cell_type": "markdown",
   "id": "61be9796",
   "metadata": {
    "scrolled": true
   },
   "source": [
    "# Problem Statement"
   ]
  },
  {
   "attachments": {},
   "cell_type": "markdown",
   "id": "77bcc7f9",
   "metadata": {},
   "source": [
    "As a member of a firm based in neighbouring Des Moines that intends to set up in Ames, Iowa, our boss has asked our team to come up with an independent analysis of the market there which can be used to map to our existing assumptions about real estate.\n",
    "\n",
    "Location is important?\n",
    "Quality of the house?\n",
    "Question: Are there other features that are important?\n",
    "\n",
    "As a data analyst within the firm, we have been tasked to explore the dataset that our procurement team got, and report our findings and limitations. \n",
    "\n"
   ]
  },
  {
   "cell_type": "markdown",
   "id": "37ab17b8",
   "metadata": {},
   "source": [
    "Description of individual variables used can be found at this website. \n",
    "http://jse.amstat.org/v19n3/decock/DataDocumentation.txt\n",
    "There have been changes in ordinal variables' interpretation within the code, such as changing a scale of Poor, Fair, Average, Above Average, Excellent to 1,2,3,4,5 respectively for analysis."
   ]
  },
  {
   "cell_type": "markdown",
   "id": "d17997aa",
   "metadata": {},
   "source": [
    "## Analysis:\n",
    "\n",
    "We added variables to our linear regression model based on a few factors- Location, Quality of House, Exterior Features, Basement (which appears to be an important feature in the Ames households), and other features such as access to alleyways.\n",
    "\n",
    "From our analysis, we found variables that are more importatnt in the Ames households, and others which we have discarded. "
   ]
  },
  {
   "cell_type": "markdown",
   "id": "9578d03e",
   "metadata": {},
   "source": [
    "## Conclusions, Recommendations:\n",
    "\n",
    "Our conclusion is to use this dataset as a baseline to understand the Ames household set. However, more data will have to be collected to build on this model.  \n",
    "\n",
    "There are other factors that can affect the price of the house.\n",
    "\n",
    "For example, there are three good indicators that affect price of the house that are missing in our dataset\n",
    "1) Quality of local schools\n",
    "2) Employment opportunities\n",
    "3) Proximity to shoppping, entertainment and recreational centers \n",
    "\n",
    "https://www.opendoor.com/w/blog/factors-that-influence-home-value\n",
    "\n",
    "Other factors include:\n",
    "1) Individual fittings and quality\n",
    "https://www.yopa.co.uk/blog/how-does-an-estate-agent-value-a-property/ \n",
    "\n",
    "Therefore, there could be other factors that we can consider adopting and exploring:\n",
    "\n",
    "Location factors:\n",
    "Presence of good schools within a 10 minute driving distance \n",
    "Distance / Time taken by car to local supermarket\n",
    "Presence of greenery and parks\n",
    "Distance to city Business District \n",
    "\n",
    "Quality of the fittings inside the house:\n",
    "Window fittings\n",
    "Renovation of toilets and bedrooms\n",
    "\n",
    "\n",
    "More information and data collection would be needed.\n",
    "\n"
   ]
  }
 ],
 "metadata": {
  "kernelspec": {
   "display_name": "Python 3",
   "language": "python",
   "name": "python3"
  },
  "language_info": {
   "codemirror_mode": {
    "name": "ipython",
    "version": 3
   },
   "file_extension": ".py",
   "mimetype": "text/x-python",
   "name": "python",
   "nbconvert_exporter": "python",
   "pygments_lexer": "ipython3",
   "version": "3.8.8"
  }
 },
 "nbformat": 4,
 "nbformat_minor": 5
}
