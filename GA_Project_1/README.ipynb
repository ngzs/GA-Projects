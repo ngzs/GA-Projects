{
 "cells": [
  {
   "cell_type": "markdown",
   "id": "61be9796",
   "metadata": {
    "scrolled": true
   },
   "source": [
    "# Problem Statement"
   ]
  },
  {
   "cell_type": "markdown",
   "id": "77bcc7f9",
   "metadata": {},
   "source": [
    "I am a public policy student, attempting to understand the different states' ability to prepare students for tests as part of thesis.\n",
    "\n",
    "My problem statement: To see whether the education system in the state holistically provides for students to excel regardless- students from same states should do well in both ACT and SAT across the board.\n"
   ]
  },
  {
   "cell_type": "markdown",
   "id": "8b1811d1",
   "metadata": {},
   "source": [
    "\n",
    "\n",
    "|Feature|Type|Dataset|Description|\n",
    "|---|---|---|---|\n",
    "|state|object|ACT/SAT|The state which the test was taken at| \n",
    "|act_participation|float|ACT|Participation rate of states in ACT| \n",
    "|act_english|float|ACT|ACT English subject average test score by states| \n",
    "|act_math |float|ACT|ACT English subject average test score by states| \n",
    "|act_reading|float|ACT|ACT Reading subject average test score by states| \n",
    "|act_science|float|ACT|ACT Science subject average test score by states| \n",
    "|act_eng_read|float|ACT|The average of ACT English subject average test score and ACT Reading subject average test score| \n",
    "|act_composite|float|ACT|ACT average test score by states| \n",
    "|sat_participation |float|SAT|Participation rate of states in ACT| \n",
    "|sat_evidence_based_reading_writing|int|SAT|SAT Evidence based reading and writing subject average test score by states| \n",
    "|sat_math|int|SAT|SAT math subject average test score by states| \n",
    "|sat_total|int|SAT|SAT total average test score by states| \n"
   ]
  },
  {
   "cell_type": "markdown",
   "id": "d17997aa",
   "metadata": {},
   "source": [
    "## Analysis:\n",
    "\n",
    "We analysed the scores between ACT and SAT to see if there are correlations between doing well for a test and the other.\n",
    "\n",
    "From our visuallisations, it appears that while states prepare students to a certain degree for tests, there are students that do even better, and there is no clear relation established between scoring well for both tests."
   ]
  },
  {
   "cell_type": "markdown",
   "id": "9578d03e",
   "metadata": {},
   "source": [
    "## Conclusions, Recommendations:\n",
    "\n",
    "Our conclusion and recommendation is that state-wide education is not sufficient for students to excel compared to certain counterparts. \n",
    "\n",
    "More research will have to be done to understand why students are doing better than the national average, and whether affluence is the key.\n",
    "\n",
    "To dive deeper into this topic, information on income of household and the students eventual SAT income can be explored.\n",
    "\n",
    "\n"
   ]
  }
 ],
 "metadata": {
  "kernelspec": {
   "display_name": "Python 3",
   "language": "python",
   "name": "python3"
  },
  "language_info": {
   "codemirror_mode": {
    "name": "ipython",
    "version": 3
   },
   "file_extension": ".py",
   "mimetype": "text/x-python",
   "name": "python",
   "nbconvert_exporter": "python",
   "pygments_lexer": "ipython3",
   "version": "3.8.8"
  }
 },
 "nbformat": 4,
 "nbformat_minor": 5
}
